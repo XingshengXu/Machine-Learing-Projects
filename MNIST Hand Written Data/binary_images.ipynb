{
 "cells": [
  {
   "attachments": {},
   "cell_type": "markdown",
   "metadata": {},
   "source": [
    "##### Create Binary Images by Simple Thresholding\n",
    "###### Training data set file: train-images.idx3-ubyte\n",
    "###### Training data set labels: train-labels.idx1-ubyte\n",
    "###### Testing data set file: t10k-images.idx3-ubyte\n",
    "###### Testing data set labels: t10k-labels.idx1-ubyte\n"
   ]
  },
  {
   "cell_type": "code",
   "execution_count": 1,
   "metadata": {},
   "outputs": [],
   "source": [
    "import idx2numpy\n",
    "import numpy as np"
   ]
  }
 ],
 "metadata": {
  "kernelspec": {
   "display_name": "Python 3",
   "language": "python",
   "name": "python3"
  },
  "language_info": {
   "codemirror_mode": {
    "name": "ipython",
    "version": 3
   },
   "file_extension": ".py",
   "mimetype": "text/x-python",
   "name": "python",
   "nbconvert_exporter": "python",
   "pygments_lexer": "ipython3",
   "version": "3.11.2"
  },
  "orig_nbformat": 4
 },
 "nbformat": 4,
 "nbformat_minor": 2
}
