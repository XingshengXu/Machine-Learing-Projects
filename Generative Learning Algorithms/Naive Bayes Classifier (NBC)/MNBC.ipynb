{
 "cells": [
  {
   "attachments": {},
   "cell_type": "markdown",
   "metadata": {},
   "source": [
    "#### Multinomial Naive Bayes Classifier for Classificating Spam Emails"
   ]
  },
  {
   "cell_type": "code",
   "execution_count": 77,
   "metadata": {},
   "outputs": [],
   "source": [
    "import matplotlib.pyplot as plt\n",
    "import numpy as np\n",
    "import pandas as pd\n",
    "import seaborn as sns\n",
    "from sklearn.metrics import classification_report, confusion_matrix"
   ]
  },
  {
   "cell_type": "code",
   "execution_count": 78,
   "metadata": {},
   "outputs": [],
   "source": [
    "# Load Data\n",
    "email_data = pd.read_csv('./dataset/emails.csv', header=0)\n",
    "\n",
    "# Remove the First 1000 Columns of High Frequency Words\n",
    "email_data.drop(email_data.columns[:1000], axis=1, inplace=True)\n",
    "\n",
    "# Settings\n",
    "train_data_size = 5000\n",
    "\n",
    "# Training Set\n",
    "train_X = email_data.iloc[0:train_data_size, 0:-1].values\n",
    "train_Y = email_data.iloc[0:train_data_size:, -1].values\n",
    "\n",
    "# Test Set\n",
    "test_X = email_data.iloc[train_data_size:, 0:-1].values\n",
    "test_Y = email_data.iloc[train_data_size:, -1].values"
   ]
  },
  {
   "cell_type": "code",
   "execution_count": 79,
   "metadata": {},
   "outputs": [],
   "source": [
    "# The Parameters of The MNB Model\n",
    "train_X_y0 = train_X[train_Y == 0] # Emails where y=0\n",
    "train_X_y1 = train_X[train_Y == 1] # Emails where y=1\n",
    "\n",
    "# Laplace Smoothing\n",
    "X_y0_prob = (np.sum(train_X_y0, axis=0) + 1) / (np.sum(train_X_y0) + len(train_X_y0[0])) \n",
    "#! φx|y0 = (Σx(i) where y(i)=0 + 1) / (Total count of words where y=0 + num_features)\n",
    "X_y1_prob = (np.sum(train_X_y1, axis=0) + 1) / (np.sum(train_X_y1) + len(train_X_y1[0])) \n",
    "#! φx|y1 = (Σx(i) where y(i)=1 + 1) / (Total count of words where y=1 + num_features)\n",
    "\n",
    "y1_prob = np.sum(train_Y) / len(train_Y) #! φy1 = ΣI(y(i)=1) / n\n",
    "y0_prob = 1- y1_prob #! φy0 = 1 - φy1"
   ]
  },
  {
   "cell_type": "code",
   "execution_count": 80,
   "metadata": {},
   "outputs": [],
   "source": [
    "# Calculate the Probabilities of Test Set Using MNB.\n",
    "p_y0_given_X = y0_prob * np.prod(np.power(X_y0_prob, test_X), axis=1)\n",
    "#! p(y=0|x) = p(y=0) * Π[p(word|y=0)^(count of word in x)]\n",
    "\n",
    "p_y1_given_X = y1_prob * np.prod(np.power(X_y1_prob, test_X), axis=1)\n",
    "#! p(y=1|x) = p(y=1) * Π[p(word|y=1)^(count of word in x)]\n",
    "\n",
    "# The Predicted Class Is the One where p_y1_given_X > p_y0_given_X.\n",
    "test_Y_hat = np.where(p_y1_given_X > p_y0_given_X, 1, 0)"
   ]
  },
  {
   "cell_type": "code",
   "execution_count": 81,
   "metadata": {},
   "outputs": [
    {
     "name": "stdout",
     "output_type": "stream",
     "text": [
      "              precision    recall  f1-score   support\n",
      "\n",
      "           0       0.85      0.97      0.90       118\n",
      "           1       0.89      0.63      0.74        54\n",
      "\n",
      "    accuracy                           0.86       172\n",
      "   macro avg       0.87      0.80      0.82       172\n",
      "weighted avg       0.86      0.86      0.85       172\n",
      "\n"
     ]
    },
    {
     "data": {
      "image/png": "[encoded data removed]",
      "text/plain": [
       "<Figure size 640x480 with 2 Axes>"
      ]
     },
     "metadata": {},
     "output_type": "display_data"
    }
   ],
   "source": [
    "# Print Classification Report\n",
    "print(classification_report(test_Y, test_Y_hat, zero_division=0))\n",
    "\n",
    "# Create Confusion Matrix\n",
    "cm = confusion_matrix(test_Y, test_Y_hat)\n",
    "\n",
    "# Plot Confusion Matrix\n",
    "sns.heatmap(cm, annot=True, fmt='d')\n",
    "plt.title('Confusion Matrix')\n",
    "plt.xlabel('Predicted')\n",
    "plt.ylabel('Actual')\n",
    "plt.show()"
   ]
  }
 ],
 "metadata": {
  "kernelspec": {
   "display_name": ".venv",
   "language": "python",
   "name": "python3"
  },
  "language_info": {
   "codemirror_mode": {
    "name": "ipython",
    "version": 3
   },
   "file_extension": ".py",
   "mimetype": "text/x-python",
   "name": "python",
   "nbconvert_exporter": "python",
   "pygments_lexer": "ipython3",
   "version": "3.11.2"
  },
  "orig_nbformat": 4
 },
 "nbformat": 4,
 "nbformat_minor": 2
}
