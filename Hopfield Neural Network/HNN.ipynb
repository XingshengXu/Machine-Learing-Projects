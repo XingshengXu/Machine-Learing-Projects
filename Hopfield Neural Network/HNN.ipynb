{
 "cells": [
  {
   "attachments": {},
   "cell_type": "markdown",
   "metadata": {},
   "source": [
    "#### Hand Written Digits Image Noise Reduction Using Hopfield Network"
   ]
  },
  {
   "cell_type": "code",
   "execution_count": 38,
   "metadata": {},
   "outputs": [],
   "source": [
    "import idx2numpy\n",
    "import matplotlib.pyplot as plt\n",
    "import numpy as np"
   ]
  },
  {
   "cell_type": "code",
   "execution_count": 39,
   "metadata": {},
   "outputs": [],
   "source": [
    "def sign_func(x):\n",
    "    \"\"\" Sign Function\"\"\"\n",
    "    if x > 0:\n",
    "        return 1\n",
    "    elif x < 0:\n",
    "        return -1\n",
    "    else:\n",
    "        return x\n",
    "\n",
    "\n",
    "def flipping_noise(image, flip_fraction):\n",
    "    \"\"\"\n",
    "    This function takes an image and a fraction representing the amount of noise\n",
    "    to add and returns a noisy image. The noise is simply flipping of pixels.\n",
    "    \"\"\"\n",
    "    # Flatten the image if it is not\n",
    "    if len(image.shape) > 1:\n",
    "        image = image.flatten()\n",
    "\n",
    "    # Generate a mask for flipping pixels\n",
    "    noise_mask = np.random.choice([False, True], len(image), p=[1-flip_fraction, flip_fraction])\n",
    "    \n",
    "    # Return a copy of the image with the pixels at the mask indices flipped\n",
    "    return np.where(noise_mask, -image, image)"
   ]
  },
  {
   "cell_type": "code",
   "execution_count": 40,
   "metadata": {},
   "outputs": [],
   "source": [
    "# Load training data sets\n",
    "try:\n",
    "    train_set = idx2numpy.convert_from_file('./dataset/train-images.idx3-ubyte')\n",
    "    label_set = idx2numpy.convert_from_file('./dataset/train-labels.idx1-ubyte')\n",
    "except FileNotFoundError as e:\n",
    "    print(\"One or more data files not found.\")\n",
    "    print(e)\n",
    "    exit()"
   ]
  },
  {
   "cell_type": "code",
   "execution_count": 41,
   "metadata": {},
   "outputs": [],
   "source": [
    "# Parameters\n",
    "threshold = 128\n",
    "pattern_size = 2\n",
    "pattern_index = 0\n",
    "is_equal = False\n",
    "iteration = 0\n",
    "train_index = []\n",
    "image_memo = []"
   ]
  },
  {
   "cell_type": "code",
   "execution_count": 42,
   "metadata": {},
   "outputs": [],
   "source": [
    "# Pick training images\n",
    "for digit in range(pattern_size):\n",
    "    digit_indices = np.where(label_set == digit)[0]\n",
    "    train_index.append(digit_indices[0])\n",
    "\n",
    "train_images = train_set[train_index]\n",
    "\n",
    "# Transpose the matrix so that the image indices are the third dimension\n",
    "X_train = np.transpose(train_images, (1, 2, 0))\n",
    "\n",
    "# Reshape the images (28*28) to intput data (784*1)\n",
    "X_train = np.reshape(X_train, (784, pattern_size))\n",
    "\n",
    "# Transfer greyscale images to bipolar images\n",
    "X_train = np.where(X_train > threshold, 1, -1)"
   ]
  },
  {
   "cell_type": "code",
   "execution_count": 43,
   "metadata": {},
   "outputs": [],
   "source": [
    "# Hopfield neural network training\n",
    "weights = X_train @ X_train.T\n",
    "\n",
    "# Keep the diagonal elements to be zero\n",
    "np.fill_diagonal(weights, 0)"
   ]
  },
  {
   "cell_type": "code",
   "execution_count": 44,
   "metadata": {},
   "outputs": [],
   "source": [
    "# Hopfield neural network noise reduction\n",
    "Y_test_prev = flipping_noise(X_train[:, pattern_index], 0.1)\n",
    "\n",
    "# Vectorize the sign function and apply it to network\n",
    "sign_func_vec = np.vectorize(sign_func)\n",
    "\n",
    "while not is_equal:\n",
    "    Y_test_curr = sign_func_vec(weights @ Y_test_prev)\n",
    "\n",
    "    # Check if the output is at its stable state\n",
    "    is_equal = np.array_equal(Y_test_prev, Y_test_curr)\n",
    "    image_memo.append(Y_test_prev)\n",
    "    Y_test_prev = Y_test_curr\n",
    "    iteration += 1"
   ]
  },
  {
   "cell_type": "code",
   "execution_count": 45,
   "metadata": {},
   "outputs": [
    {
     "data": {
      "image/png": "[encoded data removed]",
      "text/plain": [
       "<Figure size 1000x500 with 2 Axes>"
      ]
     },
     "metadata": {},
     "output_type": "display_data"
    }
   ],
   "source": [
    "# Plot test image and output image\n",
    "fig = plt.figure(figsize=(10, 5))\n",
    "\n",
    "for i in range(iteration):\n",
    "    plt.subplot(1, iteration, i+1)\n",
    "    output_image = image_memo[i].reshape(28, 28)\n",
    "    plt.imshow(output_image, cmap='gray')\n",
    "    plt.suptitle('Hand Written Digits Image Noise Reduction Using Hopfield Network')\n",
    "    plt.axis('off') \n",
    "\n",
    "plt.show()"
   ]
  }
 ],
 "metadata": {
  "kernelspec": {
   "display_name": ".venv",
   "language": "python",
   "name": "python3"
  },
  "language_info": {
   "codemirror_mode": {
    "name": "ipython",
    "version": 3
   },
   "file_extension": ".py",
   "mimetype": "text/x-python",
   "name": "python",
   "nbconvert_exporter": "python",
   "pygments_lexer": "ipython3",
   "version": "3.11.2"
  },
  "orig_nbformat": 4
 },
 "nbformat": 4,
 "nbformat_minor": 2
}
